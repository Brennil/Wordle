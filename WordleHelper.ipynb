{
 "cells": [
  {
   "cell_type": "markdown",
   "id": "adjustable-suspect",
   "metadata": {},
   "source": [
    "# Wordle Helper"
   ]
  },
  {
   "cell_type": "markdown",
   "id": "extraordinary-courtesy",
   "metadata": {},
   "source": [
    "A little helper to narrow down your next word guess based on the clues unveiled in previous guesses."
   ]
  },
  {
   "cell_type": "markdown",
   "id": "cd685fb0",
   "metadata": {},
   "source": [
    "## Adding Google Unigram Frequency List"
   ]
  },
  {
   "cell_type": "markdown",
   "id": "employed-andrew",
   "metadata": {},
   "source": [
    "For this, please download the csv file from [here](https://www.kaggle.com/rtatman/english-word-frequency)."
   ]
  },
  {
   "cell_type": "code",
   "execution_count": null,
   "id": "5404f42b",
   "metadata": {},
   "outputs": [],
   "source": [
    "import csv\n",
    "from collections import defaultdict"
   ]
  },
  {
   "cell_type": "code",
   "execution_count": null,
   "id": "113005e7",
   "metadata": {},
   "outputs": [],
   "source": [
    "file = open('unigram_freq.csv')\n",
    "csvreader = csv.reader(file)"
   ]
  },
  {
   "cell_type": "code",
   "execution_count": null,
   "id": "e874d63a",
   "metadata": {},
   "outputs": [],
   "source": [
    "header = []\n",
    "header = next(csvreader)\n",
    "header"
   ]
  },
  {
   "cell_type": "code",
   "execution_count": null,
   "id": "1b1bd87c",
   "metadata": {},
   "outputs": [],
   "source": [
    "googlewords = defaultdict(int)\n",
    "for row in csvreader:\n",
    "        googlewords[row[0]] = int(row[1])"
   ]
  },
  {
   "cell_type": "code",
   "execution_count": null,
   "id": "1d452cfc",
   "metadata": {
    "scrolled": false
   },
   "outputs": [],
   "source": [
    "googlewords['the']"
   ]
  },
  {
   "cell_type": "code",
   "execution_count": null,
   "id": "907a2178",
   "metadata": {
    "scrolled": false
   },
   "outputs": [],
   "source": [
    "googlewords5 = dict()\n",
    "allwords5 = dict()\n",
    "for word in googlewords.keys():\n",
    "    if len(word) == 5:\n",
    "        googlewords5[word] = googlewords[word]\n",
    "        #if word in brownwords5.keys():\n",
    "        #    allwords5[word] = googlewords[word] + brownwords5[word]\n",
    "        allwords5[word] = googlewords[word]"
   ]
  },
  {
   "cell_type": "code",
   "execution_count": null,
   "id": "45f8c90b",
   "metadata": {},
   "outputs": [],
   "source": [
    "dict(sorted(allwords5.items(), key=lambda item: item[1], reverse=True))"
   ]
  },
  {
   "cell_type": "code",
   "execution_count": null,
   "id": "700f2fd2",
   "metadata": {},
   "outputs": [],
   "source": [
    "len(allwords5)"
   ]
  },
  {
   "cell_type": "markdown",
   "id": "ae32ae9d",
   "metadata": {},
   "source": [
    "## Playing Wordle"
   ]
  },
  {
   "cell_type": "code",
   "execution_count": null,
   "id": "opposite-delta",
   "metadata": {},
   "outputs": [],
   "source": [
    "elimination = []\n",
    "black = []\n",
    "keep = dict()\n",
    "def play(guess, result):\n",
    "    newdict = allwords5\n",
    "    for i in range(5):\n",
    "        if result[i] == 'b':\n",
    "            black.append(guess[i])\n",
    "        if result[i] == 'g':\n",
    "            keep[guess[i]] = i\n",
    "        if result[i] == 'y':\n",
    "            elimination.append((guess[i],i))\n",
    "    for i in range(5):\n",
    "        if result[i] == 'g':\n",
    "            tempdict = newdict\n",
    "            newdict = dict()\n",
    "            for word in tempdict.keys():\n",
    "                if word[i] == guess[i]:\n",
    "                    elim = 0\n",
    "                    for g in black:\n",
    "                        if (g not in keep.keys() and g in word) or (g in keep.keys() and (g in word[:keep[g]] or g in word[keep[g]+1:])):\n",
    "                        # this handles repeat letters in a guess, where one is green and the other is greyed out\n",
    "                            elim = 1\n",
    "                            break\n",
    "                    if not elim:\n",
    "                        newdict[word] = allwords5[word]\n",
    "        if result[i] == 'y':\n",
    "            tempdict = newdict\n",
    "            newdict = dict()\n",
    "            for word in tempdict.keys():\n",
    "                if guess[i] in word and word[i] != guess[i]:\n",
    "                    elim = 0\n",
    "                    for g, e in elimination:\n",
    "                        if word[e] == g:\n",
    "                            elim = 1\n",
    "                            break\n",
    "                    for g in black:\n",
    "                        if (g not in keep.keys() and g in word) or (g in keep.keys() and (g in word[:keep[g]] or g in word[keep[g]+1:])):\n",
    "                        # this handles repeat letters in a guess, where one is yellow and the other is greyed out\n",
    "                            elim = 1\n",
    "                            break\n",
    "                    if not elim:\n",
    "                        newdict[word] = allwords5[word]\n",
    "    if result == 'bbbbb':\n",
    "        tempdict = newdict\n",
    "        newdict = dict()\n",
    "        for word in tempdict.keys():\n",
    "            if not sum([1 if letter in word else 0 for letter in black]):\n",
    "                newdict[word] = allwords5[word]\n",
    "\n",
    "    return dict(sorted(newdict.items(), key=lambda item: item[1], reverse=True))"
   ]
  },
  {
   "cell_type": "markdown",
   "id": "1d7a76c4",
   "metadata": {},
   "source": [
    "To play one round, use the `play()` function. This function takes in two arguments:\n",
    "* `guess`: the 5-word you just guessed\n",
    "* `result`: a 5-character string that describes the colour of the letters in your guess. A green letter is depicted by 'g', a yellow letter is depicted by 'y', and a grey/black letter is depicted with a 'b'.\n",
    "\n",
    "E.g. If I guess \"world\" and get the result of \"black, green, yellow, yellow, black\", I will enter the code:\n",
    "`play('world','bgyyb')`\n",
    "\n",
    "When you have selected a word from the resulting list (sorted from highest frequency to lowest) and played it for the next result, you can call the `play()` function again."
   ]
  },
  {
   "cell_type": "code",
   "execution_count": null,
   "id": "operating-morning",
   "metadata": {},
   "outputs": [],
   "source": [
    "for i in range(6):\n",
    "    print(\"Your guess should be a 5-letter word. Enter 'quit' to quit.\")\n",
    "    guess = input(\"Please input the word you guessed: \").lower()\n",
    "    if guess == 'quit':\n",
    "        print(\"Congratulations, you won with {} tries!\".format(i))\n",
    "        break\n",
    "    print(\"Your result should be input as a 5-letter string. Each letter represents the result for each letter.\")\n",
    "    print(\"'g' for green, 'y' for yellow and 'b' for black (a letter that does not exist in the answer)\")\n",
    "    result = input(\"Please input your result: \").lower()\n",
    "    if result == 'ggggg':\n",
    "        print(\"Congratulations, you won with {} tries!\".format(i))\n",
    "        break\n",
    "    nextguess = play(guess, result)\n",
    "    totalfreq = sum(nextguess.values())\n",
    "    nextwords = list(nextguess.keys())\n",
    "    print(\"Your next guess, in descending order of likelihood (likelihood in brackets): \")\n",
    "    for x in range(10):\n",
    "        print(nextwords[x],\"{}%\".format(round(nextguess[nextwords[x]]/totalfreq*100,2)))"
   ]
  },
  {
   "cell_type": "markdown",
   "id": "fifth-mixer",
   "metadata": {},
   "source": [
    "Credits: Inspired by [this post](http://estebanmoro.org/post/2022-01-10-wordle/)."
   ]
  }
 ],
 "metadata": {
  "kernelspec": {
   "display_name": "Python 3",
   "language": "python",
   "name": "python3"
  },
  "language_info": {
   "codemirror_mode": {
    "name": "ipython",
    "version": 3
   },
   "file_extension": ".py",
   "mimetype": "text/x-python",
   "name": "python",
   "nbconvert_exporter": "python",
   "pygments_lexer": "ipython3",
   "version": "3.8.5"
  }
 },
 "nbformat": 4,
 "nbformat_minor": 5
}
